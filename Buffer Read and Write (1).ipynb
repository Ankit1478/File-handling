{
 
 In file handling, a buffer is a temporary storage area used to hold data that is being read from or written to a file.

When reading data from a file, the operating system typically reads a chunk of data from the file into a buffer in memory. The program then reads data from the buffer, which is faster than reading directly from the file. When the buffer becomes empty, the operating system reads another chunk of data from the file into the buffer.

Similarly, when writing data to a file, the program writes the data to a buffer in memory first. When the buffer becomes full, the operating system writes the contents of the buffer to the file.

In Python, you can control the size of the buffer used for file I/O by passing a buffer size argument to the open() function. The default buffer size is typically 8192 bytes.

Here is an example of opening a file with a buffer size of 4096 bytes
 "cells": [
  {
   "cell_type": "code",
   "execution_count": null,
   "id": "fdecf109-d550-478b-b1bb-0fd4b8bb8476",
   "metadata": {},
   "outputs": [],
   "source": []
  },
  {
   "cell_type": "code",
   "execution_count": 1,
   "id": "6752e4fa-2633-4f0a-8dc9-26deaf28f263",
   "metadata": {},
   "outputs": [],
   "source": [
    "import io"
   ]
  },
  {
   "cell_type": "markdown",
   "id": "01c88adb-83ba-4cb4-939d-88b6eb7fd534",
   "metadata": {},
   "source": [
    " #write"
   ]
  },
  {
   "cell_type": "code",
   "execution_count": 4,
   "id": "f8067f7d-619c-4743-9c5c-ae783d4dd00a",
   "metadata": {},
   "outputs": [],
   "source": [
    "with open(\"text5.txt\",\"wb\")as f:\n",
    "    file = io.BufferedWriter(f)\n",
    "    \n",
    "    file.write(b\"This is first line\\n\")\n",
    "    file.write(b\"This is second line\\n\")\n",
    "    file.flush() # it is same as f.close()"
   ]
  },
  {
   "cell_type": "markdown",
   "id": "26bf5eb4-4d60-4526-98d1-f2cd4a6aecd7",
   "metadata": {},
   "source": [
    "# read"
   ]
  },
  {
   "cell_type": "code",
   "execution_count": 7,
   "id": "22cf399c-df42-4efa-ab53-7940a894d413",
   "metadata": {},
   "outputs": [
    {
     "name": "stdout",
     "output_type": "stream",
     "text": [
      "b'This is first line\\nThis is second line\\n'\n"
     ]
    }
   ],
   "source": [
    "with open(\"text5.txt\",\"rb\")as f:\n",
    "    \n",
    "    file =io.BufferedReader(f)\n",
    "    data = file.read()\n",
    "    print(data)"
   ]
  },
  {
   "cell_type": "code",
   "execution_count": 8,
   "id": "373f2332-06f6-44a9-b3d7-9d98b06fbd7e",
   "metadata": {},
   "outputs": [
    {
     "name": "stdout",
     "output_type": "stream",
     "text": [
      "b'This is first line'\n"
     ]
    }
   ],
   "source": [
    "with open(\"text5.txt\",\"rb\")as f:\n",
    "    \n",
    "    file =io.BufferedReader(f)\n",
    "    data = file.read(18)\n",
    "    print(data)"
   ]
  },
  {
   "cell_type": "code",
   "execution_count": null,
   "id": "510561e8-6517-48a3-bdc9-f8d86c43d403",
   "metadata": {},
   "outputs": [],
   "source": []
  }
 ],
 "metadata": {
  "kernelspec": {
   "display_name": "Python 3 (ipykernel)",
   "language": "python",
   "name": "python3"
  },
  "language_info": {
   "codemirror_mode": {
    "name": "ipython",
    "version": 3
   },
   "file_extension": ".py",
   "mimetype": "text/x-python",
   "name": "python",
   "nbconvert_exporter": "python",
   "pygments_lexer": "ipython3",
   "version": "3.10.8"
  }
 },
 "nbformat": 4,
 "nbformat_minor": 5
}

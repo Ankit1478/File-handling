{
 "cells": [
  {
   "cell_type": "code",
   "execution_count": 5,
   "id": "ff3be3ab-f555-4b48-81d3-0cd3ad9ae813",
   "metadata": {},
   "outputs": [],
   "source": [
    "data={\n",
    "    \"name\":\"Ankit\",\n",
    "    \"email\":\"123@gmail.com\",\n",
    "    \"number\":12345578,\n",
    "    \"subject\":[\"datscience\",\"web dev\",\"dat analyatic\"]\n",
    "}"
   ]
  },
  {
   "cell_type": "code",
   "execution_count": 6,
   "id": "af4c77fb-7a8f-4c5a-808b-15522078889f",
   "metadata": {},
   "outputs": [],
   "source": [
    "import json"
   ]
  },
  {
   "cell_type": "code",
   "execution_count": 7,
   "id": "6a0abf6b-3af1-4f4d-905f-b6d64c1168f1",
   "metadata": {},
   "outputs": [],
   "source": [
    "with open(\"data.json\",\"w\")as f:\n",
    "    json.dump(data,f)"
   ]
  },
  {
   "cell_type": "code",
   "execution_count": 8,
   "id": "ffc5900b-dcd4-481f-bd3b-37d80ac1a41f",
   "metadata": {},
   "outputs": [],
   "source": [
    "with open(\"data.json\",\"r\")as f:\n",
    "    data1=json.load(f)"
   ]
  },
  {
   "cell_type": "code",
   "execution_count": 9,
   "id": "7755501f-3323-4481-9c5a-ec10ba572ecd",
   "metadata": {},
   "outputs": [
    {
     "data": {
      "text/plain": [
       "{'name': 'Ankit',\n",
       " 'email': '123@gmail.com',\n",
       " 'number': 12345578,\n",
       " 'subject': ['datscience', 'web dev', 'dat analyatic']}"
      ]
     },
     "execution_count": 9,
     "metadata": {},
     "output_type": "execute_result"
    }
   ],
   "source": [
    "data1"
   ]
  },
  {
   "cell_type": "code",
   "execution_count": 10,
   "id": "3d54ca73-2885-4603-bb8c-91db0b009acc",
   "metadata": {},
   "outputs": [
    {
     "data": {
      "text/plain": [
       "['datscience', 'web dev', 'dat analyatic']"
      ]
     },
     "execution_count": 10,
     "metadata": {},
     "output_type": "execute_result"
    }
   ],
   "source": [
    "data1[\"subject\"]"
   ]
  },
  {
   "cell_type": "code",
   "execution_count": 11,
   "id": "2f9233f4-0620-461f-a289-322ca65adb85",
   "metadata": {},
   "outputs": [
    {
     "data": {
      "text/plain": [
       "'web dev'"
      ]
     },
     "execution_count": 11,
     "metadata": {},
     "output_type": "execute_result"
    }
   ],
   "source": [
    "data1[\"subject\"][1]"
   ]
  },
  {
   "cell_type": "code",
   "execution_count": 14,
   "id": "0a657a48-2046-4ae1-a6ed-58ecd423d637",
   "metadata": {},
   "outputs": [],
   "source": [
    "## COMMA seprated values (CSV)"
   ]
  },
  {
   "cell_type": "code",
   "execution_count": 15,
   "id": "eb4c40ce-8a61-4e1c-99ec-f9eb0ba5bcf1",
   "metadata": {},
   "outputs": [],
   "source": [
    "# how to read (1,2,3,4,5,6,7,78,) this type of data"
   ]
  },
  {
   "cell_type": "code",
   "execution_count": 16,
   "id": "8a35dd65-1562-445f-955d-5d90a5c41664",
   "metadata": {},
   "outputs": [],
   "source": [
    "import csv"
   ]
  },
  {
   "cell_type": "code",
   "execution_count": 17,
   "id": "c8a84221-6c4d-4363-9c27-5aea7eb9112d",
   "metadata": {},
   "outputs": [],
   "source": [
    "data = [[\"name\",\"email\",\"phone number\"],\n",
    "        [\"ankit\",\"123@gmail.com\",768746768],\n",
    "        [\"krish\",\"34y4@gmail.com\",654668576]\n",
    "       ]"
   ]
  },
  {
   "cell_type": "code",
   "execution_count": 18,
   "id": "63faa854-228c-410a-ae87-12420a35fd59",
   "metadata": {},
   "outputs": [],
   "source": [
    "with open(\"data.csv\",\"w\")as f:\n",
    "    writer = csv.writer(f)\n",
    "    \n",
    "    for i in data:\n",
    "        writer.writerow(i)"
   ]
  },
  {
   "cell_type": "code",
   "execution_count": 20,
   "id": "9458d43c-ac05-410a-9ff0-62d4191dcc17",
   "metadata": {},
   "outputs": [
    {
     "name": "stdout",
     "output_type": "stream",
     "text": [
      "['name', 'email', 'phone number']\n",
      "['ankit', '123@gmail.com', '768746768']\n",
      "['krish', '34y4@gmail.com', '654668576']\n"
     ]
    }
   ],
   "source": [
    "with open(\"data.csv\",\"r\") as f:\n",
    "    readdata= csv.reader(f)\n",
    "    \n",
    "    for i in readdata:\n",
    "        print(i)"
   ]
  },
  {
   "cell_type": "markdown",
   "id": "b9654b7c-f156-4f1c-86ed-3c7d62c6047b",
   "metadata": {},
   "source": [
    "\n",
    "\n",
    "#  what is binary data\n",
    "# ans - image ya audio ke jo text file ma open krne ka baad jo text file dikhti hai usse binary data bolte hai it is 0 and 1 not readablr by human"
   ]
  },
  {
   "cell_type": "code",
   "execution_count": 23,
   "id": "3fe02c65-d099-4798-86a5-e99f92e66e48",
   "metadata": {},
   "outputs": [],
   "source": [
    "with open(\"text4.bin\",\"wb\") as f:\n",
    "    f.write(b\"\\x01\\x02\\x0ankit\")"
   ]
  },
  {
   "cell_type": "code",
   "execution_count": 28,
   "id": "1821c842-8566-4d40-9816-b132640a68dd",
   "metadata": {},
   "outputs": [
    {
     "name": "stdout",
     "output_type": "stream",
     "text": [
      "b'\\x01\\x02\\nnkit'\n"
     ]
    }
   ],
   "source": [
    "with open(\"text4.bin\",\"rb\")as f:\n",
    "    print(f.read())"
   ]
  },
  {
   "cell_type": "code",
   "execution_count": null,
   "id": "f665e9d1-e6a2-4232-abf9-8c726a402842",
   "metadata": {},
   "outputs": [],
   "source": []
  }
 ],
 "metadata": {
  "kernelspec": {
   "display_name": "Python 3 (ipykernel)",
   "language": "python",
   "name": "python3"
  },
  "language_info": {
   "codemirror_mode": {
    "name": "ipython",
    "version": 3
   },
   "file_extension": ".py",
   "mimetype": "text/x-python",
   "name": "python",
   "nbconvert_exporter": "python",
   "pygments_lexer": "ipython3",
   "version": "3.10.8"
  }
 },
 "nbformat": 4,
 "nbformat_minor": 5
}

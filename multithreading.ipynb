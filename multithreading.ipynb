{
 "cells": [
  {
   "cell_type": "code",
   "execution_count": 1,
   "id": "2eec102e-c91f-4c3a-8cfc-90507a382365",
   "metadata": {},
   "outputs": [],
   "source": [
    "import threading"
   ]
  },
  {
   "cell_type": "code",
   "execution_count": 2,
   "id": "562b9706-db0b-4f89-97eb-5f4c325b9e0e",
   "metadata": {},
   "outputs": [],
   "source": [
    "def test(id):\n",
    "    print(\"program starts from %d \"% id)\n",
    "    "
   ]
  },
  {
   "cell_type": "code",
   "execution_count": 3,
   "id": "5a0b7545-aa85-47cd-9177-1a0bde38f34a",
   "metadata": {},
   "outputs": [
    {
     "name": "stdout",
     "output_type": "stream",
     "text": [
      "program starts from 45 \n"
     ]
    }
   ],
   "source": [
    "test(45)"
   ]
  },
  {
   "cell_type": "code",
   "execution_count": 4,
   "id": "15ce2383-d891-4a27-a2f2-df15120d3f94",
   "metadata": {},
   "outputs": [],
   "source": [
    "thread =[threading.Thread(target=test,args=(i,))for i in range(10)]"
   ]
  },
  {
   "cell_type": "code",
   "execution_count": 5,
   "id": "672616f0-8e69-4298-8804-ce304073cef2",
   "metadata": {},
   "outputs": [
    {
     "name": "stdout",
     "output_type": "stream",
     "text": [
      "program starts from 0 \n",
      "program starts from 1 \n",
      "program starts from 2 \n",
      "program starts from 3 \n",
      "program starts from 4 \n",
      "program starts from 5 \n",
      "program starts from 6 \n",
      "program starts from 7 \n",
      "program starts from 8 \n",
      "program starts from 9 \n"
     ]
    }
   ],
   "source": [
    "for t in thread:\n",
    "    t.start()"
   ]
  },
  {
   "cell_type": "code",
   "execution_count": 6,
   "id": "43b0da87-1000-44a6-bac1-8cf3cf730933",
   "metadata": {},
   "outputs": [
    {
     "data": {
      "text/plain": [
       "[<Thread(Thread-5 (test), stopped 140458818778688)>,\n",
       " <Thread(Thread-6 (test), stopped 140458818778688)>,\n",
       " <Thread(Thread-7 (test), stopped 140458818778688)>,\n",
       " <Thread(Thread-8 (test), stopped 140458818778688)>,\n",
       " <Thread(Thread-9 (test), stopped 140458818778688)>,\n",
       " <Thread(Thread-10 (test), stopped 140458818778688)>,\n",
       " <Thread(Thread-11 (test), stopped 140458818778688)>,\n",
       " <Thread(Thread-12 (test), stopped 140458818778688)>,\n",
       " <Thread(Thread-13 (test), stopped 140458810385984)>,\n",
       " <Thread(Thread-14 (test), stopped 140458810385984)>]"
      ]
     },
     "execution_count": 6,
     "metadata": {},
     "output_type": "execute_result"
    }
   ],
   "source": [
    "thread"
   ]
  },
  {
   "cell_type": "code",
   "execution_count": 8,
   "id": "34798113-0e27-4681-946c-1b810d9d8537",
   "metadata": {},
   "outputs": [
    {
     "data": {
      "text/plain": [
       "140459192193344"
      ]
     },
     "execution_count": 8,
     "metadata": {},
     "output_type": "execute_result"
    }
   ],
   "source": [
    "id(thread)"
   ]
  },
  {
   "cell_type": "code",
   "execution_count": 9,
   "id": "e1096ed3-3110-4140-b9b0-5a791fe8202d",
   "metadata": {},
   "outputs": [],
   "source": [
    "# another example"
   ]
  },
  {
   "cell_type": "code",
   "execution_count": 1,
   "id": "40f5a28a-056b-4a36-9f81-7ec3b7e07e2a",
   "metadata": {},
   "outputs": [],
   "source": [
    "import threading\n",
    "import urllib.request\n",
    "\n",
    "def file_download(url, filename):\n",
    "    urllib.request.urlretrieve(url,filename)"
   ]
  },
  {
   "cell_type": "code",
   "execution_count": 2,
   "id": "db0d1541-0625-4df8-906a-5c3e6d07d998",
   "metadata": {},
   "outputs": [],
   "source": [
    "file_download('https://github.com/Ankit1478/my-first-repository/blob/d13fd3aea29c5866af91fe77f6159a8de5264fa1/Diameter%20of%20tree',\"text.txt\")"
   ]
  },
  {
   "cell_type": "code",
   "execution_count": 3,
   "id": "00eb8d40-bf92-489d-ba70-84f5a3880c51",
   "metadata": {},
   "outputs": [],
   "source": [
    "url_list=['https://github.com/Ankit1478/my-first-repository/blob/main/Bellman%20Ford','https://github.com/Ankit1478/my-first-repository/blob/main/Cheapest%20Flights%20Within%20K%20Stops']"
   ]
  },
  {
   "cell_type": "code",
   "execution_count": 4,
   "id": "b1e8b2e4-78c4-417c-8ef0-f61f0e3b1652",
   "metadata": {},
   "outputs": [
    {
     "data": {
      "text/plain": [
       "['https://github.com/Ankit1478/my-first-repository/blob/main/Bellman%20Ford',\n",
       " 'https://github.com/Ankit1478/my-first-repository/blob/main/Cheapest%20Flights%20Within%20K%20Stops']"
      ]
     },
     "execution_count": 4,
     "metadata": {},
     "output_type": "execute_result"
    }
   ],
   "source": [
    "url_list"
   ]
  },
  {
   "cell_type": "code",
   "execution_count": 5,
   "id": "9016360a-8223-4b5d-a120-31a4bba8d46b",
   "metadata": {},
   "outputs": [],
   "source": [
    "file_name_list=['data.txt','data1.txt']"
   ]
  },
  {
   "cell_type": "code",
   "execution_count": 6,
   "id": "0e697de9-b4c0-4f1d-8be7-a6980f8b93da",
   "metadata": {},
   "outputs": [],
   "source": [
    "threads = [threading.Thread(target=file_download, args=(url_list[i], file_name_list[i])) for i in range(len(url_list))]\n"
   ]
  },
  {
   "cell_type": "code",
   "execution_count": 7,
   "id": "57fa554d-12c0-476d-b9d0-3a25d6736bae",
   "metadata": {},
   "outputs": [
    {
     "data": {
      "text/plain": [
       "[<Thread(Thread-5 (file_download), initial)>,\n",
       " <Thread(Thread-6 (file_download), initial)>]"
      ]
     },
     "execution_count": 7,
     "metadata": {},
     "output_type": "execute_result"
    }
   ],
   "source": [
    "threads"
   ]
  },
  {
   "cell_type": "code",
   "execution_count": 9,
   "id": "434cd965-822f-44cf-ae11-3ecfee3f4920",
   "metadata": {},
   "outputs": [],
   "source": [
    "for t in threads:\n",
    "    t.start()"
   ]
  },
  {
   "cell_type": "code",
   "execution_count": 10,
   "id": "03c69887-b4a2-4284-90c4-153c3de1bdba",
   "metadata": {},
   "outputs": [],
   "source": [
    "import time\n"
   ]
  },
  {
   "cell_type": "code",
   "execution_count": 17,
   "id": "20c92e37-39c0-48f5-a251-a6ba3176d490",
   "metadata": {},
   "outputs": [],
   "source": [
    "def test1(id):\n",
    "    for i in range(10):\n",
    "        print(\"test 1 %d printing %d\" %(id,i))\n",
    "        time.sleep(1)  # 3 sec ka baad baar baar print krega"
   ]
  },
  {
   "cell_type": "code",
   "execution_count": 18,
   "id": "bdae7fdb-4199-4da2-aeb1-d3a6a41e6575",
   "metadata": {},
   "outputs": [
    {
     "name": "stdout",
     "output_type": "stream",
     "text": [
      "test 1 1 printing 0\n",
      "test 1 1 printing 1\n",
      "test 1 1 printing 2\n",
      "test 1 1 printing 3\n",
      "test 1 1 printing 4\n",
      "test 1 1 printing 5\n",
      "test 1 1 printing 6\n",
      "test 1 1 printing 7\n",
      "test 1 1 printing 8\n",
      "test 1 1 printing 9\n"
     ]
    }
   ],
   "source": [
    "test1(1)"
   ]
  },
  {
   "cell_type": "code",
   "execution_count": 19,
   "id": "d3b05f77-4165-449c-bf53-8cf6480fb254",
   "metadata": {},
   "outputs": [],
   "source": [
    "thread1=[threading.Thread(target=test1,args=(i,))for i in range(3)]"
   ]
  },
  {
   "cell_type": "code",
   "execution_count": 20,
   "id": "cfe28332-8c3a-4c97-aba8-1acdd01a644f",
   "metadata": {},
   "outputs": [
    {
     "name": "stdout",
     "output_type": "stream",
     "text": [
      "test 1 0 printing 0\n",
      "test 1 1 printing 0\n",
      "test 1 2 printing 0\n",
      "test 1 0 printing 1\n",
      "test 1 1 printing 1\n",
      "test 1 2 printing 1\n",
      "test 1 0 printing 2\n",
      "test 1 1 printing 2\n",
      "test 1 2 printing 2\n",
      "test 1 0 printing 3\n",
      "test 1 1 printing 3\n",
      "test 1 2 printing 3\n",
      "test 1 0 printing 4\n",
      "test 1 1 printing 4\n",
      "test 1 2 printing 4\n",
      "test 1 0 printing 5\n",
      "test 1 1 printing 5\n",
      "test 1 2 printing 5\n",
      "test 1 0 printing 6\n",
      "test 1 2 printing 6\n",
      "test 1 1 printing 6\n",
      "test 1 0 printing 7\n",
      "test 1 2 printing 7\n",
      "test 1 1 printing 7\n",
      "test 1 0 printing 8\n",
      "test 1 2 printing 8\n",
      "test 1 1 printing 8\n",
      "test 1 0 printing 9\n",
      "test 1 2 printing 9\n",
      "test 1 1 printing 9\n"
     ]
    }
   ],
   "source": [
    "for t in thread1:\n",
    "    t.start()"
   ]
  },
  {
   "cell_type": "code",
   "execution_count": 22,
   "id": "7380921f-a700-406e-b66b-04f5da70e840",
   "metadata": {},
   "outputs": [],
   "source": [
    "# time stamp "
   ]
  },
  {
   "cell_type": "code",
   "execution_count": 23,
   "id": "bfdcfed2-bb95-4e68-860e-0900f3c84c6d",
   "metadata": {},
   "outputs": [],
   "source": [
    "def test2(id):\n",
    "    for i in range(10):\n",
    "        print(\"test 1 %d printing %d %s\" %(id,i,time.ctime()))\n",
    "        time.sleep(1)  # 3 sec ka baad baar baar print krega"
   ]
  },
  {
   "cell_type": "code",
   "execution_count": 24,
   "id": "6e42d79b-7cca-4e39-a556-75bbbe76dd92",
   "metadata": {},
   "outputs": [
    {
     "name": "stdout",
     "output_type": "stream",
     "text": [
      "test 1 0 printing 0 Wed Mar  1 18:04:05 2023\n",
      "test 1 0 printing 1 Wed Mar  1 18:04:06 2023\n",
      "test 1 0 printing 2 Wed Mar  1 18:04:07 2023\n",
      "test 1 0 printing 3 Wed Mar  1 18:04:08 2023\n",
      "test 1 0 printing 4 Wed Mar  1 18:04:09 2023\n",
      "test 1 0 printing 5 Wed Mar  1 18:04:10 2023\n",
      "test 1 0 printing 6 Wed Mar  1 18:04:11 2023\n",
      "test 1 0 printing 7 Wed Mar  1 18:04:12 2023\n",
      "test 1 0 printing 8 Wed Mar  1 18:04:13 2023\n",
      "test 1 0 printing 9 Wed Mar  1 18:04:14 2023\n"
     ]
    }
   ],
   "source": [
    "test2(0)"
   ]
  },
  {
   "cell_type": "code",
   "execution_count": 28,
   "id": "4c27544e-8fe2-44b4-bc1d-4993a53c518b",
   "metadata": {},
   "outputs": [],
   "source": [
    "thread2=[threading.Thread(target=test2 , args=(i,))for i in range(4)]"
   ]
  },
  {
   "cell_type": "code",
   "execution_count": 30,
   "id": "887922cf-26fc-424e-b1e3-133c085dfdcb",
   "metadata": {},
   "outputs": [
    {
     "name": "stdout",
     "output_type": "stream",
     "text": [
      "test 1 0 printing 0 Wed Mar  1 18:08:42 2023\n",
      "test 1 1 printing 0 Wed Mar  1 18:08:42 2023\n",
      "test 1 2 printing 0 Wed Mar  1 18:08:42 2023\n",
      "test 1 3 printing 0 Wed Mar  1 18:08:42 2023\n",
      "test 1 1 printing 1 Wed Mar  1 18:08:43 2023\n",
      "test 1 2 printing 1 Wed Mar  1 18:08:43 2023\n",
      "test 1 0 printing 1 Wed Mar  1 18:08:43 2023\n",
      "test 1 3 printing 1 Wed Mar  1 18:08:43 2023\n",
      "test 1 1 printing 2 Wed Mar  1 18:08:44 2023test 1 2 printing 2 Wed Mar  1 18:08:44 2023\n",
      "test 1 0 printing 2 Wed Mar  1 18:08:44 2023\n",
      "\n",
      "test 1 3 printing 2 Wed Mar  1 18:08:44 2023\n",
      "test 1 2 printing 3 Wed Mar  1 18:08:45 2023test 1 1 printing 3 Wed Mar  1 18:08:45 2023\n",
      "test 1 0 printing 3 Wed Mar  1 18:08:45 2023\n",
      "\n",
      "test 1 3 printing 3 Wed Mar  1 18:08:45 2023\n",
      "test 1 1 printing 4 Wed Mar  1 18:08:46 2023test 1 0 printing 4 Wed Mar  1 18:08:46 2023\n",
      "test 1 2 printing 4 Wed Mar  1 18:08:46 2023\n",
      "test 1 3 printing 4 Wed Mar  1 18:08:46 2023\n",
      "\n",
      "test 1 0 printing 5 Wed Mar  1 18:08:47 2023\n",
      "test 1 1 printing 5 Wed Mar  1 18:08:47 2023\n",
      "test 1 3 printing 5 Wed Mar  1 18:08:47 2023\n",
      "test 1 2 printing 5 Wed Mar  1 18:08:47 2023\n",
      "test 1 0 printing 6 Wed Mar  1 18:08:48 2023\n",
      "test 1 2 printing 6 Wed Mar  1 18:08:48 2023\n",
      "test 1 3 printing 6 Wed Mar  1 18:08:48 2023\n",
      "test 1 1 printing 6 Wed Mar  1 18:08:48 2023\n",
      "test 1 0 printing 7 Wed Mar  1 18:08:49 2023\n",
      "test 1 2 printing 7 Wed Mar  1 18:08:49 2023\n",
      "test 1 3 printing 7 Wed Mar  1 18:08:49 2023\n",
      "test 1 1 printing 7 Wed Mar  1 18:08:49 2023\n",
      "test 1 0 printing 8 Wed Mar  1 18:08:50 2023\n",
      "test 1 3 printing 8 Wed Mar  1 18:08:50 2023\n",
      "test 1 2 printing 8 Wed Mar  1 18:08:50 2023\n",
      "test 1 1 printing 8 Wed Mar  1 18:08:50 2023\n",
      "test 1 0 printing 9 Wed Mar  1 18:08:51 2023\n",
      "test 1 3 printing 9 Wed Mar  1 18:08:51 2023\n",
      "test 1 2 printing 9 Wed Mar  1 18:08:51 2023\n",
      "test 1 1 printing 9 Wed Mar  1 18:08:51 2023\n"
     ]
    }
   ],
   "source": [
    "for i in thread2:\n",
    "    i.start()"
   ]
  },
  {
   "cell_type": "code",
   "execution_count": null,
   "id": "fbe87ab7-7e44-4a31-987a-e1a573cd2e7a",
   "metadata": {},
   "outputs": [],
   "source": []
  },
  {
   "cell_type": "code",
   "execution_count": null,
   "id": "00002914-3442-40df-b802-d59722897a8d",
   "metadata": {},
   "outputs": [],
   "source": []
  },
  {
   "cell_type": "code",
   "execution_count": 42,
   "id": "5ec15042-7298-4159-b550-d38e9438eee3",
   "metadata": {},
   "outputs": [],
   "source": [
    "shared_var=0\n",
    "lock_var=threading.Lock()"
   ]
  },
  {
   "cell_type": "code",
   "execution_count": 38,
   "id": "8f007da6-ccae-41f8-82b8-d69484201920",
   "metadata": {},
   "outputs": [],
   "source": [
    "def test3(id):\n",
    "    global shared_var\n",
    "    with lock_var:\n",
    "        shared_var=shared_var+1\n",
    "        print(\"test 2 id is %d This id has increased  the varaible by %d \" %(id, shared_var))\n",
    "        time.sleep(1)"
   ]
  },
  {
   "cell_type": "code",
   "execution_count": 39,
   "id": "1e82cb21-acb9-4a0f-909b-b108cbb868e0",
   "metadata": {},
   "outputs": [],
   "source": [
    "thread3=[threading.Thread(target=test2,args=(id,))for i in range(3)]"
   ]
  },
  {
   "cell_type": "code",
   "execution_count": 40,
   "id": "50bb5651-1a56-46a8-805b-11f396582794",
   "metadata": {},
   "outputs": [
    {
     "data": {
      "text/plain": [
       "[<Thread(Thread-20 (test2), initial)>,\n",
       " <Thread(Thread-21 (test2), initial)>,\n",
       " <Thread(Thread-22 (test2), initial)>]"
      ]
     },
     "execution_count": 40,
     "metadata": {},
     "output_type": "execute_result"
    }
   ],
   "source": [
    "thread3"
   ]
  },
  {
   "cell_type": "code",
   "execution_count": 41,
   "id": "db2cb1fb-d9b5-4e7f-b3a2-74ee7cd30f76",
   "metadata": {},
   "outputs": [
    {
     "name": "stderr",
     "output_type": "stream",
     "text": [
      "Exception in thread Thread-20 (test2):\n",
      "Traceback (most recent call last):\n",
      "  File \"/opt/conda/lib/python3.10/threading.py\", line 1016, in _bootstrap_inner\n",
      "Exception in thread Thread-21 (test2):\n",
      "Traceback (most recent call last):\n",
      "  File \"/opt/conda/lib/python3.10/threading.py\", line 1016, in _bootstrap_inner\n",
      "Exception in thread Thread-22 (test2):\n",
      "Traceback (most recent call last):\n",
      "  File \"/opt/conda/lib/python3.10/threading.py\", line 1016, in _bootstrap_inner\n",
      "    self.run()\n",
      "  File \"/opt/conda/lib/python3.10/threading.py\", line 953, in run\n",
      "    self._target(*self._args, **self._kwargs)\n",
      "  File \"/tmp/ipykernel_622/4016026882.py\", line 3, in test2\n",
      "    self.run()\n",
      "  File \"/opt/conda/lib/python3.10/threading.py\", line 953, in run\n",
      "    self.run()\n",
      "  File \"/opt/conda/lib/python3.10/threading.py\", line 953, in run\n",
      "    self._target(*self._args, **self._kwargs)\n",
      "  File \"/tmp/ipykernel_622/4016026882.py\", line 3, in test2\n",
      "    self._target(*self._args, **self._kwargs)\n",
      "  File \"/tmp/ipykernel_622/4016026882.py\", line 3, in test2\n",
      "TypeError: %d format: a real number is required, not builtin_function_or_method\n",
      "TypeError: %d format: a real number is required, not builtin_function_or_method\n",
      "TypeError: %d format: a real number is required, not builtin_function_or_method\n"
     ]
    }
   ],
   "source": [
    "for t in thread3:\n",
    "    t.start()"
   ]
  },
  {
   "cell_type": "code",
   "execution_count": null,
   "id": "91745b12-8c68-40c1-8818-fa822410ee1d",
   "metadata": {},
   "outputs": [],
   "source": []
  }
 ],
 "metadata": {
  "kernelspec": {
   "display_name": "Python 3 (ipykernel)",
   "language": "python",
   "name": "python3"
  },
  "language_info": {
   "codemirror_mode": {
    "name": "ipython",
    "version": 3
   },
   "file_extension": ".py",
   "mimetype": "text/x-python",
   "name": "python",
   "nbconvert_exporter": "python",
   "pygments_lexer": "ipython3",
   "version": "3.10.8"
  }
 },
 "nbformat": 4,
 "nbformat_minor": 5
}

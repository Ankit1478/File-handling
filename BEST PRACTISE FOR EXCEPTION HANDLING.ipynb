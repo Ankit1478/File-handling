{
 "cells": [
  {
   "cell_type": "code",
   "execution_count": 1,
   "id": "093c04f9-622d-4aae-ab3b-547a14fda8c1",
   "metadata": {},
   "outputs": [
    {
     "name": "stdout",
     "output_type": "stream",
     "text": [
      "division by zero\n"
     ]
    }
   ],
   "source": [
    "# use always a specific Exception\n",
    "\n",
    "try:\n",
    "    10/0\n",
    "except Exception as e:\n",
    "    print(e)\n",
    "    \n",
    "# but this is not good way "
   ]
  },
  {
   "cell_type": "code",
   "execution_count": 2,
   "id": "f1699c27-2cc3-420f-a793-823e784ae86f",
   "metadata": {},
   "outputs": [
    {
     "name": "stdout",
     "output_type": "stream",
     "text": [
      "division by zero\n"
     ]
    }
   ],
   "source": [
    "# so to make good code we use ZeroDivisionError\n",
    "try:\n",
    "    10/0\n",
    "except ZeroDivisionError as e:\n",
    "    print(e)"
   ]
  },
  {
   "cell_type": "markdown",
   "id": "e33918f3-6199-4701-94ff-66cfb8cbaa4f",
   "metadata": {},
   "source": [
    "# Print Always a proper Message"
   ]
  },
  {
   "cell_type": "code",
   "execution_count": 3,
   "id": "8e56f5d2-e710-42de-af94-b8cef09beea2",
   "metadata": {},
   "outputs": [
    {
     "name": "stdout",
     "output_type": "stream",
     "text": [
      "i am trying to handle a zerohandle error division by zero\n"
     ]
    }
   ],
   "source": [
    "try:\n",
    "    10/0\n",
    "except ZeroDivisionError as e:\n",
    "    print(\"i am trying to handle a zerohandle error\",e)"
   ]
  },
  {
   "cell_type": "markdown",
   "id": "16707fd5-abf1-464e-9bf6-4c866b57ed47",
   "metadata": {},
   "source": [
    "# Always use logging"
   ]
  },
  {
   "cell_type": "code",
   "execution_count": 5,
   "id": "785594e8-a0e3-4dcf-a018-57db3fb5f074",
   "metadata": {},
   "outputs": [],
   "source": [
    "import logging\n",
    "logging.basicConfig(filename =\"error.log\",level=logging.ERROR)\n",
    "try:\n",
    "    10/0\n",
    "except ZeroDivisionError as e:\n",
    "    logging.error(\"i am trying to handle a zerohandle error {}\".format(e))"
   ]
  },
  {
   "cell_type": "markdown",
   "id": "71148941-06e1-4be8-9827-7df567ba63dc",
   "metadata": {},
   "source": [
    "# always avoid to write a multiple exception handling"
   ]
  },
  {
   "cell_type": "code",
   "execution_count": 7,
   "id": "a8615c95-5cf5-4682-9e6f-5a35202fa8cd",
   "metadata": {},
   "outputs": [],
   "source": [
    "import logging\n",
    "logging.basicConfig(filename =\"error.log\",level=logging.ERROR)\n",
    "try:\n",
    "    10/0\n",
    "except FileNotFoundError as e:\n",
    "    logging.error(\"file not f=finding error {}\".format(e))\n",
    "except AttributeError as e:\n",
    "    logging.error(\"Attribute error {}\".format(e))\n",
    "except ZeroDivisionError as e:\n",
    "    logging.error(\"i am trying to handle a zerohandle error {}\".format(e))    \n",
    "    \n",
    "    # always avoid multiple exception  exception handling jisme aap sure ho ki yahi ayega bss ussi ko likhna hai"
   ]
  },
  {
   "cell_type": "markdown",
   "id": "58a74761-ebaf-4d9e-85d8-d227b35e6c3f",
   "metadata": {},
   "source": [
    "# document all the error"
   ]
  },
  {
   "cell_type": "code",
   "execution_count": 8,
   "id": "5df55eef-8f03-4071-b017-e313c78a100b",
   "metadata": {},
   "outputs": [],
   "source": [
    "#mtalb jo error likha hai kis purpose sw likha hai oo pta ho chahiye"
   ]
  },
  {
   "cell_type": "markdown",
   "id": "933cdcf8-fbee-4258-b924-4ab145158dd8",
   "metadata": {},
   "source": [
    "#cleanup all the resources"
   ]
  },
  {
   "cell_type": "code",
   "execution_count": 10,
   "id": "85f35503-343c-4699-be67-b48175c9693b",
   "metadata": {},
   "outputs": [],
   "source": [
    "try:\n",
    "    with open(\"text.txt\",'w')as f:\n",
    "        f.write(\"This is my file\")\n",
    "        \n",
    "except FileNotFoundError as e:\n",
    "    logging.error(\"i am handling  file {}\".format(e))\n",
    "finally:\n",
    "    f.close()"
   ]
  },
  {
   "cell_type": "code",
   "execution_count": null,
   "id": "27ca6720-2452-4c15-88a8-8c62bf1ef2eb",
   "metadata": {},
   "outputs": [],
   "source": []
  }
 ],
 "metadata": {
  "kernelspec": {
   "display_name": "Python 3 (ipykernel)",
   "language": "python",
   "name": "python3"
  },
  "language_info": {
   "codemirror_mode": {
    "name": "ipython",
    "version": 3
   },
   "file_extension": ".py",
   "mimetype": "text/x-python",
   "name": "python",
   "nbconvert_exporter": "python",
   "pygments_lexer": "ipython3",
   "version": "3.10.8"
  }
 },
 "nbformat": 4,
 "nbformat_minor": 5
}

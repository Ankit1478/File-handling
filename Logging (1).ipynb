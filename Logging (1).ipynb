{
 "cells": [
  {
   "cell_type": "code",
   "execution_count": 1,
   "id": "43db4eda-bfe4-4014-8fe6-3227165e7a91",
   "metadata": {},
   "outputs": [
    {
     "name": "stdout",
     "output_type": "stream",
     "text": [
      "this is my print\n"
     ]
    }
   ],
   "source": [
    "print(\"this is my print\")"
   ]
  },
  {
   "cell_type": "code",
   "execution_count": 2,
   "id": "37f9474e-3c1d-44fb-a812-e7d6daf61e07",
   "metadata": {},
   "outputs": [],
   "source": [
    "import logging"
   ]
  },
  {
   "cell_type": "code",
   "execution_count": 3,
   "id": "8f9fa570-989a-4186-91d5-abf2be76ab1d",
   "metadata": {},
   "outputs": [],
   "source": [
    "logging.basicConfig(filename=\"test.log\",level=logging.INFO)"
   ]
  },
  {
   "cell_type": "code",
   "execution_count": 4,
   "id": "38cad537-dd92-424e-804c-f212d5821cb2",
   "metadata": {},
   "outputs": [],
   "source": [
    "logging.info(\"Log this line of executaion\")"
   ]
  },
  {
   "cell_type": "code",
   "execution_count": 5,
   "id": "06c9483d-7535-47df-8c32-3211d5f67fff",
   "metadata": {},
   "outputs": [],
   "source": [
    "logging.info(\"This is my print\")"
   ]
  },
  {
   "cell_type": "code",
   "execution_count": 6,
   "id": "f0a5e8bc-fd1a-4ce1-9813-fadf7055ec99",
   "metadata": {},
   "outputs": [],
   "source": [
    "logging.debug(\"this is dj\")"
   ]
  },
  {
   "cell_type": "raw",
   "id": "f4de2c24-0389-4f3a-9f6c-b130a563ea0b",
   "metadata": {},
   "source": [
    "'''\n",
    "1.NOTSET\n",
    "2.DEBUG\n",
    "3.INFO\n",
    "4.WARNING\n",
    "5.ERROR\n",
    "6.CRITICAL\n",
    "'''"
   ]
  },
  {
   "cell_type": "raw",
   "id": "b6a177bf-9a39-49ae-9c73-ecc476df59bf",
   "metadata": {},
   "source": [
    "# agar info daal diya hai to usle niche wla response krega upper wla nhi you can check uper exaple debug ka output save nhi hoga kyuki info pheledaal diya tha"
   ]
  },
  {
   "cell_type": "code",
   "execution_count": 7,
   "id": "b978e133-549a-4a80-a4b2-4e1f9450b222",
   "metadata": {},
   "outputs": [],
   "source": [
    "logging.warning(\"This is my waring message\")"
   ]
  },
  {
   "cell_type": "code",
   "execution_count": 8,
   "id": "65bdc1fd-7b48-4ccb-8670-a09312f6bf54",
   "metadata": {},
   "outputs": [],
   "source": [
    "logging.error(\"this is my Error\")"
   ]
  },
  {
   "cell_type": "code",
   "execution_count": 9,
   "id": "9776955c-b306-4992-a4d1-b6f2ef43446f",
   "metadata": {},
   "outputs": [],
   "source": [
    "logging.critical(\"This is my critical messgae\")"
   ]
  },
  {
   "cell_type": "code",
   "execution_count": 10,
   "id": "2ec46718-c3a5-4d9b-8b08-6dd7e12709a7",
   "metadata": {},
   "outputs": [],
   "source": [
    "logging.shutdown()"
   ]
  },
  {
   "cell_type": "code",
   "execution_count": 1,
   "id": "518a20d6-ed6a-4a26-a07f-93b3dc2af928",
   "metadata": {},
   "outputs": [],
   "source": [
    "import logging"
   ]
  },
  {
   "cell_type": "code",
   "execution_count": 2,
   "id": "c28ef93f-0d37-4853-ba4b-154cdf0265f2",
   "metadata": {},
   "outputs": [],
   "source": [
    "logging.basicConfig(filename=\"test1.log\",level = logging.DEBUG,format = '%(asctime)s %(message)s')"
   ]
  },
  {
   "cell_type": "code",
   "execution_count": 3,
   "id": "35be809f-f7b3-44ee-930b-a1b6e2cc336b",
   "metadata": {},
   "outputs": [],
   "source": [
    "logging.info(\"this is my info\")"
   ]
  },
  {
   "cell_type": "code",
   "execution_count": 4,
   "id": "0e688dde-bd21-49f9-8c0a-5b178d247b51",
   "metadata": {},
   "outputs": [],
   "source": [
    "logging.error(\"This is my erroe\")"
   ]
  },
  {
   "cell_type": "code",
   "execution_count": 5,
   "id": "e342fcf6-fc0d-476d-bc26-f0e91faf8955",
   "metadata": {},
   "outputs": [],
   "source": [
    "logging.critical(\"this is critical\")"
   ]
  },
  {
   "cell_type": "code",
   "execution_count": 8,
   "id": "d8d925df-7611-42ec-aa50-4df3643d7c82",
   "metadata": {},
   "outputs": [],
   "source": [
    "logging.shutdown()"
   ]
  },
  {
   "cell_type": "code",
   "execution_count": 1,
   "id": "4f466253-b8c9-4d95-97d3-76701c937da1",
   "metadata": {},
   "outputs": [],
   "source": [
    "import logging"
   ]
  },
  {
   "cell_type": "code",
   "execution_count": 2,
   "id": "1d819415-e278-40ad-b988-d524750f5d42",
   "metadata": {},
   "outputs": [],
   "source": [
    "logging.basicConfig(filename=\"test2.log\",level = logging.DEBUG,format ='%(asctime)s %(name)s %(levelname)s %(message)s')"
   ]
  },
  {
   "cell_type": "code",
   "execution_count": 3,
   "id": "e7c8969e-0715-4880-b7cc-6277dcb66e91",
   "metadata": {},
   "outputs": [],
   "source": [
    "logging.info(\"this is my info\")"
   ]
  },
  {
   "cell_type": "code",
   "execution_count": 4,
   "id": "56aa20b8-0ad9-4576-a582-e8819ac51601",
   "metadata": {},
   "outputs": [],
   "source": [
    "logging.error(\"This is my erroe\")"
   ]
  },
  {
   "cell_type": "code",
   "execution_count": 5,
   "id": "02d28116-d357-451a-b09d-33f65d29e721",
   "metadata": {},
   "outputs": [],
   "source": [
    "logging.critical(\"this is critical\")"
   ]
  },
  {
   "cell_type": "code",
   "execution_count": null,
   "id": "df823f5c-74af-4b48-a46d-cd5ca4b85068",
   "metadata": {},
   "outputs": [],
   "source": []
  },
  {
   "cell_type": "code",
   "execution_count": null,
   "id": "a978530c-c0e6-4a50-a26e-643f49fb48bc",
   "metadata": {},
   "outputs": [],
   "source": []
  },
  {
   "cell_type": "code",
   "execution_count": 6,
   "id": "deda2162-9fff-4070-b184-50d3f1fe9680",
   "metadata": {},
   "outputs": [],
   "source": [
    "l=[1,2,3,45,[4,67],\"ankit\",\"Raj\"]"
   ]
  },
  {
   "cell_type": "code",
   "execution_count": 23,
   "id": "6eaac336-7bf8-4325-b9f6-7a523c237b9a",
   "metadata": {},
   "outputs": [],
   "source": [
    "l1_int=[]\n",
    "l2_str=[]\n",
    "for i in l:\n",
    "    logging.info(\"we are iterating through variable {}\".format(l))\n",
    "    if type(i)==list:\n",
    "        logging.info(\"i am inside the if statement anfd i am trying to check list type\"+str(l))\n",
    "        for j in i:\n",
    "            logging.info(\"i am inside another loop for list inside the list\")\n",
    "            if type(j)==int :\n",
    "                logging.info(\"i am inside if statement\")\n",
    "                l1_int.append(j)\n",
    "    elif type(i)==int :\n",
    "        l1_int.append(i)\n",
    "            \n",
    "    else:\n",
    "         if type(i)==str:\n",
    "            l2_str.append(i)\n",
    "logging.info(\"my final result is {l1} and str is{l2}\".format(l1=l1_int ,l2 =l2_str))"
   ]
  },
  {
   "cell_type": "code",
   "execution_count": 24,
   "id": "4c3acbf1-529b-41ea-9ab5-33dff34edb70",
   "metadata": {},
   "outputs": [
    {
     "data": {
      "text/plain": [
       "[1, 2, 3, 45, 4, 67]"
      ]
     },
     "execution_count": 24,
     "metadata": {},
     "output_type": "execute_result"
    }
   ],
   "source": [
    "l1_int"
   ]
  },
  {
   "cell_type": "code",
   "execution_count": 25,
   "id": "35ef80bb-7117-40da-94ba-bfc853df6fc6",
   "metadata": {},
   "outputs": [
    {
     "data": {
      "text/plain": [
       "['ankit', 'Raj']"
      ]
     },
     "execution_count": 25,
     "metadata": {},
     "output_type": "execute_result"
    }
   ],
   "source": [
    "l2_str"
   ]
  },
  {
   "cell_type": "code",
   "execution_count": null,
   "id": "37c49e11-a60f-42ee-b19f-a9cb7b34b712",
   "metadata": {},
   "outputs": [],
   "source": []
  }
 ],
 "metadata": {
  "kernelspec": {
   "display_name": "Python 3 (ipykernel)",
   "language": "python",
   "name": "python3"
  },
  "language_info": {
   "codemirror_mode": {
    "name": "ipython",
    "version": 3
   },
   "file_extension": ".py",
   "mimetype": "text/x-python",
   "name": "python",
   "nbconvert_exporter": "python",
   "pygments_lexer": "ipython3",
   "version": "3.10.8"
  }
 },
 "nbformat": 4,
 "nbformat_minor": 5
}

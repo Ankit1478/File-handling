{
 "cells": [
  {
   "cell_type": "code",
   "execution_count": 1,
   "id": "b613cd79-455d-49f9-84e5-7a102e7fa491",
   "metadata": {},
   "outputs": [],
   "source": [
    "#age =int(input(\"Enter your age\"))"
   ]
  },
  {
   "cell_type": "code",
   "execution_count": 2,
   "id": "d3f62f27-92cf-4953-9bde-d48d35d79d20",
   "metadata": {},
   "outputs": [],
   "source": [
    "class validage(Exception):\n",
    "    \n",
    "    def __init__(self,msg):\n",
    "        self.msg=msg"
   ]
  },
  {
   "cell_type": "code",
   "execution_count": 3,
   "id": "0843ed56-5b24-48e1-a2d5-40ce65bc9512",
   "metadata": {},
   "outputs": [],
   "source": [
    "def validateage(age):\n",
    "    if age<0:\n",
    "        raise validateage(\"Entered age is negative\")\n",
    "    elif age>200:\n",
    "        raise validateage(\"Enterde age is very high\")\n",
    "    else:\n",
    "        print(\"Age is valid\")"
   ]
  },
  {
   "cell_type": "code",
   "execution_count": 5,
   "id": "65c57a1a-6f19-4221-afb2-f2788ee2a4ae",
   "metadata": {},
   "outputs": [
    {
     "ename": "TypeError",
     "evalue": "catching classes that do not inherit from BaseException is not allowed",
     "output_type": "error",
     "traceback": [
      "\u001b[0;31m---------------------------------------------------------------------------\u001b[0m",
      "\u001b[0;31mTypeError\u001b[0m                                 Traceback (most recent call last)",
      "Cell \u001b[0;32mIn[5], line 4\u001b[0m\n\u001b[1;32m      3\u001b[0m     age\u001b[38;5;241m=\u001b[39m\u001b[38;5;241m-\u001b[39m\u001b[38;5;241m3548\u001b[39m\n\u001b[0;32m----> 4\u001b[0m     \u001b[43mvalidateage\u001b[49m\u001b[43m(\u001b[49m\u001b[43mage\u001b[49m\u001b[43m)\u001b[49m\n\u001b[1;32m      5\u001b[0m \u001b[38;5;28;01mexcept\u001b[39;00m validateage \u001b[38;5;28;01mas\u001b[39;00m e:\n",
      "Cell \u001b[0;32mIn[3], line 3\u001b[0m, in \u001b[0;36mvalidateage\u001b[0;34m(age)\u001b[0m\n\u001b[1;32m      2\u001b[0m \u001b[38;5;28;01mif\u001b[39;00m age\u001b[38;5;241m<\u001b[39m\u001b[38;5;241m0\u001b[39m:\n\u001b[0;32m----> 3\u001b[0m     \u001b[38;5;28;01mraise\u001b[39;00m \u001b[43mvalidateage\u001b[49m\u001b[43m(\u001b[49m\u001b[38;5;124;43m\"\u001b[39;49m\u001b[38;5;124;43mEntered age is negative\u001b[39;49m\u001b[38;5;124;43m\"\u001b[39;49m\u001b[43m)\u001b[49m\n\u001b[1;32m      4\u001b[0m \u001b[38;5;28;01melif\u001b[39;00m age\u001b[38;5;241m>\u001b[39m\u001b[38;5;241m200\u001b[39m:\n",
      "Cell \u001b[0;32mIn[3], line 2\u001b[0m, in \u001b[0;36mvalidateage\u001b[0;34m(age)\u001b[0m\n\u001b[1;32m      1\u001b[0m \u001b[38;5;28;01mdef\u001b[39;00m \u001b[38;5;21mvalidateage\u001b[39m(age):\n\u001b[0;32m----> 2\u001b[0m     \u001b[38;5;28;01mif\u001b[39;00m \u001b[43mage\u001b[49m\u001b[38;5;241;43m<\u001b[39;49m\u001b[38;5;241;43m0\u001b[39;49m:\n\u001b[1;32m      3\u001b[0m         \u001b[38;5;28;01mraise\u001b[39;00m validateage(\u001b[38;5;124m\"\u001b[39m\u001b[38;5;124mEntered age is negative\u001b[39m\u001b[38;5;124m\"\u001b[39m)\n",
      "\u001b[0;31mTypeError\u001b[0m: '<' not supported between instances of 'str' and 'int'",
      "\nDuring handling of the above exception, another exception occurred:\n",
      "\u001b[0;31mTypeError\u001b[0m                                 Traceback (most recent call last)",
      "Cell \u001b[0;32mIn[5], line 5\u001b[0m\n\u001b[1;32m      3\u001b[0m     age\u001b[38;5;241m=\u001b[39m\u001b[38;5;241m-\u001b[39m\u001b[38;5;241m3548\u001b[39m\n\u001b[1;32m      4\u001b[0m     validateage(age)\n\u001b[0;32m----> 5\u001b[0m \u001b[38;5;28;01mexcept\u001b[39;00m validateage \u001b[38;5;28;01mas\u001b[39;00m e:\n\u001b[1;32m      6\u001b[0m     \u001b[38;5;28mprint\u001b[39m(e)\n",
      "\u001b[0;31mTypeError\u001b[0m: catching classes that do not inherit from BaseException is not allowed"
     ]
    }
   ],
   "source": [
    "try:\n",
    "   # age =int(input(\"Enter your age\"))\n",
    "    age=-3548\n",
    "    validateage(age)\n",
    "except validateage as e:\n",
    "    print(e)"
   ]
  },
  {
   "cell_type": "code",
   "execution_count": null,
   "id": "a761613c-855e-4a05-be65-76cad837fc9b",
   "metadata": {},
   "outputs": [],
   "source": []
  },
  {
   "cell_type": "code",
   "execution_count": null,
   "id": "ea22fc74-9fed-4c43-b888-250e759fae0f",
   "metadata": {},
   "outputs": [],
   "source": []
  }
 ],
 "metadata": {
  "kernelspec": {
   "display_name": "Python 3 (ipykernel)",
   "language": "python",
   "name": "python3"
  },
  "language_info": {
   "codemirror_mode": {
    "name": "ipython",
    "version": 3
   },
   "file_extension": ".py",
   "mimetype": "text/x-python",
   "name": "python",
   "nbconvert_exporter": "python",
   "pygments_lexer": "ipython3",
   "version": "3.10.8"
  }
 },
 "nbformat": 4,
 "nbformat_minor": 5
}

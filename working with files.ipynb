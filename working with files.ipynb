{
 "cells": [
  {
   "cell_type": "code",
   "execution_count": 61,
   "id": "1ae7ce8f-e8a8-479f-b8cf-44210bcef13a",
   "metadata": {},
   "outputs": [],
   "source": [
    "f=open(\"test.txt\",'w')"
   ]
  },
  {
   "cell_type": "code",
   "execution_count": 62,
   "id": "31770282-6b0b-4051-9c79-265b40ad2986",
   "metadata": {},
   "outputs": [
    {
     "data": {
      "text/plain": [
       "'/home/jovyan/work'"
      ]
     },
     "execution_count": 62,
     "metadata": {},
     "output_type": "execute_result"
    }
   ],
   "source": [
    "pwd"
   ]
  },
  {
   "cell_type": "code",
   "execution_count": 63,
   "id": "8fd72552-cda3-4405-9c98-7318b45fb0cd",
   "metadata": {},
   "outputs": [
    {
     "name": "stdout",
     "output_type": "stream",
     "text": [
      "[Errno 2] No such file or directory: 'work'\n",
      "/home/jovyan/work\n"
     ]
    }
   ],
   "source": [
    "cd work"
   ]
  },
  {
   "cell_type": "code",
   "execution_count": 64,
   "id": "29d84dc6-e322-4ce1-abff-c3ea2fc0a112",
   "metadata": {},
   "outputs": [
    {
     "data": {
      "text/plain": [
       "'/home/jovyan/work'"
      ]
     },
     "execution_count": 64,
     "metadata": {},
     "output_type": "execute_result"
    }
   ],
   "source": [
    "pwd"
   ]
  },
  {
   "cell_type": "code",
   "execution_count": 65,
   "id": "28975c99-b138-444e-8eaf-e519bf240cf3",
   "metadata": {},
   "outputs": [
    {
     "data": {
      "text/plain": [
       "30"
      ]
     },
     "execution_count": 65,
     "metadata": {},
     "output_type": "execute_result"
    }
   ],
   "source": [
    "f.write(\"this is my first file to write\")"
   ]
  },
  {
   "cell_type": "code",
   "execution_count": 66,
   "id": "081692bf-84f1-46a0-9d04-df8ac86216be",
   "metadata": {},
   "outputs": [],
   "source": [
    "f.close()"
   ]
  },
  {
   "cell_type": "code",
   "execution_count": 67,
   "id": "24b63f82-158b-477c-88f6-0ce132285170",
   "metadata": {},
   "outputs": [],
   "source": [
    "f=open(\"test.txt\",'w')  # purna wla data delete kr dega"
   ]
  },
  {
   "cell_type": "code",
   "execution_count": 68,
   "id": "a0563003-9d82-4882-9d70-00f64c3c3eba",
   "metadata": {},
   "outputs": [
    {
     "data": {
      "text/plain": [
       "22"
      ]
     },
     "execution_count": 68,
     "metadata": {},
     "output_type": "execute_result"
    }
   ],
   "source": [
    "f.write(\"this is my seconf file\")"
   ]
  },
  {
   "cell_type": "code",
   "execution_count": 69,
   "id": "e436f5ef-6956-4a64-8fe5-98ae6582297d",
   "metadata": {},
   "outputs": [],
   "source": [
    "f.close()"
   ]
  },
  {
   "cell_type": "code",
   "execution_count": 70,
   "id": "02763533-86bf-4eb0-9a22-106d150f967b",
   "metadata": {},
   "outputs": [],
   "source": [
    "f=open(\"test.txt\",'a')  # append (a) purana wla bhi data isme rhega delete nhi hoga "
   ]
  },
  {
   "cell_type": "code",
   "execution_count": 71,
   "id": "eb222b4d-2e8b-442b-bd85-e1d96f51028e",
   "metadata": {},
   "outputs": [
    {
     "data": {
      "text/plain": [
       "548"
      ]
     },
     "execution_count": 71,
     "metadata": {},
     "output_type": "execute_result"
    }
   ],
   "source": [
    "f.write(\"Narendra Damodardas Modi (Gujarati: [ˈnəɾendɾə dɑmodəɾˈdɑs ˈmodiː] (listen); born 17 September 1950)[b] is an Indian politician serving as the 14th and current Prime Minister of India since 2014. Modi was the Chief Minister of Gujarat from 2001 to 2014 and is the Member of Parliament from Varanasi. He is a member of the Bharatiya Janata Party (BJP) and of the Rashtriya Swayamsevak Sangh (RSS), a right-wing Hindu nationalist paramilitary volunteer organisation. He is the longest serving prime minister from outside the Indian National Congress.\")"
   ]
  },
  {
   "cell_type": "code",
   "execution_count": 72,
   "id": "45bd7043-8e42-4027-9244-aedfbb0b0852",
   "metadata": {},
   "outputs": [],
   "source": [
    "f.close()"
   ]
  },
  {
   "cell_type": "code",
   "execution_count": 73,
   "id": "b15bcee7-ebd4-424e-991f-ae4e22395c23",
   "metadata": {},
   "outputs": [],
   "source": [
    "f= open(\"test.txt\",'r') # only read the data"
   ]
  },
  {
   "cell_type": "code",
   "execution_count": 74,
   "id": "5db9138f-7b80-4dfd-8dbb-fb22fc76e87c",
   "metadata": {},
   "outputs": [],
   "source": [
    "data=f.read()"
   ]
  },
  {
   "cell_type": "code",
   "execution_count": 75,
   "id": "468b0b97-1384-45ad-8bfa-15323bf38629",
   "metadata": {},
   "outputs": [
    {
     "data": {
      "text/plain": [
       "'this is my seconf fileNarendra Damodardas Modi (Gujarati: [ˈnəɾendɾə dɑmodəɾˈdɑs ˈmodiː] (listen); born 17 September 1950)[b] is an Indian politician serving as the 14th and current Prime Minister of India since 2014. Modi was the Chief Minister of Gujarat from 2001 to 2014 and is the Member of Parliament from Varanasi. He is a member of the Bharatiya Janata Party (BJP) and of the Rashtriya Swayamsevak Sangh (RSS), a right-wing Hindu nationalist paramilitary volunteer organisation. He is the longest serving prime minister from outside the Indian National Congress.'"
      ]
     },
     "execution_count": 75,
     "metadata": {},
     "output_type": "execute_result"
    }
   ],
   "source": [
    "data"
   ]
  },
  {
   "cell_type": "code",
   "execution_count": 76,
   "id": "13ecafe7-b099-4d2f-976b-048b733aa647",
   "metadata": {},
   "outputs": [],
   "source": [
    "# read line by line krna hai"
   ]
  },
  {
   "cell_type": "code",
   "execution_count": 77,
   "id": "c0761077-1b7b-462b-80db-ad65e4428f6d",
   "metadata": {},
   "outputs": [
    {
     "data": {
      "text/plain": [
       "''"
      ]
     },
     "execution_count": 77,
     "metadata": {},
     "output_type": "execute_result"
    }
   ],
   "source": [
    "f.readline()"
   ]
  },
  {
   "cell_type": "code",
   "execution_count": 78,
   "id": "45fbf7fb-ab46-45d7-a0ea-803c38d6b2f7",
   "metadata": {},
   "outputs": [],
   "source": [
    "# yaha blnk isliye yaha hai to suru se readline suru se read krta  hai\n",
    "# pr yaha pr pointer f.read krke poi ter last me aa gya hai isliyr blank aya hai"
   ]
  },
  {
   "cell_type": "code",
   "execution_count": 79,
   "id": "2ea7c9d2-bac8-4991-8a2b-6e764be7b126",
   "metadata": {},
   "outputs": [
    {
     "data": {
      "text/plain": [
       "0"
      ]
     },
     "execution_count": 79,
     "metadata": {},
     "output_type": "execute_result"
    }
   ],
   "source": [
    "f.seek(0) #mtlb pointer 0(starting pe aa gya)"
   ]
  },
  {
   "cell_type": "code",
   "execution_count": 80,
   "id": "3a8cccdf-2da4-462a-a9c5-986b7321196d",
   "metadata": {},
   "outputs": [
    {
     "data": {
      "text/plain": [
       "'this is my seconf fileNarendra Damodardas Modi (Gujarati: [ˈnəɾendɾə dɑmodəɾˈdɑs ˈmodiː] (listen); born 17 September 1950)[b] is an Indian politician serving as the 14th and current Prime Minister of India since 2014. Modi was the Chief Minister of Gujarat from 2001 to 2014 and is the Member of Parliament from Varanasi. He is a member of the Bharatiya Janata Party (BJP) and of the Rashtriya Swayamsevak Sangh (RSS), a right-wing Hindu nationalist paramilitary volunteer organisation. He is the longest serving prime minister from outside the Indian National Congress.'"
      ]
     },
     "execution_count": 80,
     "metadata": {},
     "output_type": "execute_result"
    }
   ],
   "source": [
    "f.readline()"
   ]
  },
  {
   "cell_type": "code",
   "execution_count": 81,
   "id": "48eb0a61-f939-4865-b4f2-ca8812c49459",
   "metadata": {},
   "outputs": [],
   "source": [
    "# agar hme 10 wle text se read krna hai to seek(10) set kr denge"
   ]
  },
  {
   "cell_type": "code",
   "execution_count": 82,
   "id": "71b39e96-d5e0-4dd2-88af-1832de185890",
   "metadata": {},
   "outputs": [
    {
     "data": {
      "text/plain": [
       "10"
      ]
     },
     "execution_count": 82,
     "metadata": {},
     "output_type": "execute_result"
    }
   ],
   "source": [
    "f.seek(10)"
   ]
  },
  {
   "cell_type": "code",
   "execution_count": 83,
   "id": "0441d3d1-445c-43ec-bbad-9b3b9020ee23",
   "metadata": {},
   "outputs": [
    {
     "data": {
      "text/plain": [
       "' seconf fileNarendra Damodardas Modi (Gujarati: [ˈnəɾendɾə dɑmodəɾˈdɑs ˈmodiː] (listen); born 17 September 1950)[b] is an Indian politician serving as the 14th and current Prime Minister of India since 2014. Modi was the Chief Minister of Gujarat from 2001 to 2014 and is the Member of Parliament from Varanasi. He is a member of the Bharatiya Janata Party (BJP) and of the Rashtriya Swayamsevak Sangh (RSS), a right-wing Hindu nationalist paramilitary volunteer organisation. He is the longest serving prime minister from outside the Indian National Congress.'"
      ]
     },
     "execution_count": 83,
     "metadata": {},
     "output_type": "execute_result"
    }
   ],
   "source": [
    "f.readline()"
   ]
  },
  {
   "cell_type": "code",
   "execution_count": 84,
   "id": "82108fe6-3421-4823-9e23-9ba62cce5c38",
   "metadata": {},
   "outputs": [],
   "source": [
    "data = open(\"test.txt\",'r')"
   ]
  },
  {
   "cell_type": "code",
   "execution_count": 85,
   "id": "2ca4be74-313d-4bf9-9ed0-850a6d8725ce",
   "metadata": {},
   "outputs": [
    {
     "name": "stdout",
     "output_type": "stream",
     "text": [
      "this is my seconf fileNarendra Damodardas Modi (Gujarati: [ˈnəɾendɾə dɑmodəɾˈdɑs ˈmodiː] (listen); born 17 September 1950)[b] is an Indian politician serving as the 14th and current Prime Minister of India since 2014. Modi was the Chief Minister of Gujarat from 2001 to 2014 and is the Member of Parliament from Varanasi. He is a member of the Bharatiya Janata Party (BJP) and of the Rashtriya Swayamsevak Sangh (RSS), a right-wing Hindu nationalist paramilitary volunteer organisation. He is the longest serving prime minister from outside the Indian National Congress.\n"
     ]
    }
   ],
   "source": [
    "for i in data:\n",
    "    print(i)"
   ]
  },
  {
   "cell_type": "code",
   "execution_count": 86,
   "id": "95cb4ee6-7f0e-491c-8461-26e619df2aac",
   "metadata": {},
   "outputs": [],
   "source": [
    "# SIZE OF FILE"
   ]
  },
  {
   "cell_type": "code",
   "execution_count": 87,
   "id": "b028fb6e-4847-470b-a992-fd6cdd525083",
   "metadata": {},
   "outputs": [],
   "source": [
    "import os"
   ]
  },
  {
   "cell_type": "code",
   "execution_count": 88,
   "id": "5bbe8ec0-b969-4b88-9977-2f52ae94890e",
   "metadata": {},
   "outputs": [
    {
     "data": {
      "text/plain": [
       "582"
      ]
     },
     "execution_count": 88,
     "metadata": {},
     "output_type": "execute_result"
    }
   ],
   "source": [
    "os.path.getsize(\"test.txt\")"
   ]
  },
  {
   "cell_type": "code",
   "execution_count": 89,
   "id": "9697fcdd-ac12-49ff-8e5f-1b07ff9d1a80",
   "metadata": {},
   "outputs": [],
   "source": [
    "# DELETE A FILE"
   ]
  },
  {
   "cell_type": "code",
   "execution_count": 90,
   "id": "a5abed15-9b7b-4d4b-b0e7-92714be33d63",
   "metadata": {},
   "outputs": [],
   "source": [
    "os.remove(\"test.txt\")"
   ]
  },
  {
   "cell_type": "code",
   "execution_count": 91,
   "id": "2faeb04a-59f8-4d45-8bc7-b0400b6ba1c6",
   "metadata": {},
   "outputs": [],
   "source": [
    "f=open(\"test1.txt\",\"w\")"
   ]
  },
  {
   "cell_type": "code",
   "execution_count": 92,
   "id": "6573b3b1-fe8e-4274-b044-5d95cc15fee5",
   "metadata": {},
   "outputs": [
    {
     "data": {
      "text/plain": [
       "'/home/jovyan/work'"
      ]
     },
     "execution_count": 92,
     "metadata": {},
     "output_type": "execute_result"
    }
   ],
   "source": [
    "pwd"
   ]
  },
  {
   "cell_type": "code",
   "execution_count": 93,
   "id": "65cdb052-5d6b-4b7c-aa3c-d6c31ff9b7aa",
   "metadata": {},
   "outputs": [
    {
     "data": {
      "text/plain": [
       "682"
      ]
     },
     "execution_count": 93,
     "metadata": {},
     "output_type": "execute_result"
    }
   ],
   "source": [
    "f.write(\"Modi was born and raised in Vadnagar in northeastern Gujarat, where he completed his secondary education. He was introduced to the RSS at age eight. He has reminisced about helping out after school at his father's tea stall at the Vadnagar railway station. At age 18, Modi was married to Jashodaben Chimanlal Modi, whom he abandoned soon after. He first publicly acknowledged her as his wife more than four decades later when required to do so by Indian law, but has made no contact with her since. Modi has asserted he had travelled in northern India for two years after leaving his parental home, visiting a number of religious centres, but few details of his travels have emerged\")"
   ]
  },
  {
   "cell_type": "code",
   "execution_count": 94,
   "id": "d826418e-be37-4223-bb91-884a81f8f079",
   "metadata": {},
   "outputs": [],
   "source": [
    "f.close()"
   ]
  },
  {
   "cell_type": "code",
   "execution_count": 95,
   "id": "7e3a43a6-6291-44aa-9465-440572d8d673",
   "metadata": {},
   "outputs": [],
   "source": [
    "# RENAME"
   ]
  },
  {
   "cell_type": "code",
   "execution_count": 96,
   "id": "c453011e-f55e-408f-89c1-c963dbd7701e",
   "metadata": {},
   "outputs": [],
   "source": [
    "os.rename(\"test1.txt\",\"new.txt\")"
   ]
  },
  {
   "cell_type": "code",
   "execution_count": 97,
   "id": "63eda6b2-7798-4734-a830-a8a15d31a913",
   "metadata": {},
   "outputs": [],
   "source": [
    " # multiple copy of this file"
   ]
  },
  {
   "cell_type": "code",
   "execution_count": 99,
   "id": "8e6ee18a-14aa-4d65-a028-903ec809c039",
   "metadata": {},
   "outputs": [],
   "source": [
    "import shutil"
   ]
  },
  {
   "cell_type": "code",
   "execution_count": 100,
   "id": "2e581272-884e-4837-a7ce-bca1f61af265",
   "metadata": {},
   "outputs": [
    {
     "data": {
      "text/plain": [
       "'copy_new.txt'"
      ]
     },
     "execution_count": 100,
     "metadata": {},
     "output_type": "execute_result"
    }
   ],
   "source": [
    "shutil.copy(\"new.txt\",\"copy_new.txt\")"
   ]
  },
  {
   "cell_type": "code",
   "execution_count": 103,
   "id": "42a7a44b-4776-4625-9ec8-35d9ec249b27",
   "metadata": {},
   "outputs": [
    {
     "name": "stdout",
     "output_type": "stream",
     "text": [
      "Modi was born and raised in Vadnagar in northeastern Gujarat, where he completed his secondary education. He was introduced to the RSS at age eight. He has reminisced about helping out after school at his father's tea stall at the Vadnagar railway station. At age 18, Modi was married to Jashodaben Chimanlal Modi, whom he abandoned soon after. He first publicly acknowledged her as his wife more than four decades later when required to do so by Indian law, but has made no contact with her since. Modi has asserted he had travelled in northern India for two years after leaving his parental home, visiting a number of religious centres, but few details of his travels have emerged\n"
     ]
    }
   ],
   "source": [
    "with open(\"new.txt\",'r')as f:\n",
    "    print( f.read())"
   ]
  },
  {
   "cell_type": "code",
   "execution_count": null,
   "id": "e249d882-901a-4a75-bac3-35d21df91df6",
   "metadata": {},
   "outputs": [],
   "source": []
  }
 ],
 "metadata": {
  "kernelspec": {
   "display_name": "Python 3 (ipykernel)",
   "language": "python",
   "name": "python3"
  },
  "language_info": {
   "codemirror_mode": {
    "name": "ipython",
    "version": 3
   },
   "file_extension": ".py",
   "mimetype": "text/x-python",
   "name": "python",
   "nbconvert_exporter": "python",
   "pygments_lexer": "ipython3",
   "version": "3.10.8"
  }
 },
 "nbformat": 4,
 "nbformat_minor": 5
}

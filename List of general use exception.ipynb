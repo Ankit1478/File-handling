{
 "cells": [
  {
   "cell_type": "code",
   "execution_count": 2,
   "id": "d50c3163-d998-4537-9966-64e83aef3461",
   "metadata": {},
   "outputs": [
    {
     "name": "stdout",
     "output_type": "stream",
     "text": [
      "division by zero\n"
     ]
    }
   ],
   "source": [
    "try:\n",
    "    a=10/0\n",
    "except ZeroDivisionError as e:\n",
    "    print(e)"
   ]
  },
  {
   "cell_type": "code",
   "execution_count": 3,
   "id": "498b6f59-9ad4-47b9-bf48-278cbe97f567",
   "metadata": {},
   "outputs": [
    {
     "name": "stdout",
     "output_type": "stream",
     "text": [
      "invalid literal for int() with base 10: 'Ankit'\n"
     ]
    }
   ],
   "source": [
    "try:\n",
    "    int(\"Ankit\")\n",
    "except (ValueError,TypeError) as e:\n",
    "    print(e)"
   ]
  },
  {
   "cell_type": "code",
   "execution_count": 4,
   "id": "7d956fd3-8500-439b-85c0-6d74b4e5ce0f",
   "metadata": {},
   "outputs": [
    {
     "name": "stdout",
     "output_type": "stream",
     "text": [
      "This will catch Eroor\n"
     ]
    }
   ],
   "source": [
    "# jb error pta na ho\n",
    "try:\n",
    "    int(\"ankit\")\n",
    "except :\n",
    "    print(\"This will catch Eroor\")"
   ]
  },
  {
   "cell_type": "markdown",
   "id": "838a1a0b-0397-4a3f-9ffb-dd7b1cdd2bd9",
   "metadata": {},
   "source": [
    "# module Error"
   ]
  },
  {
   "cell_type": "code",
   "execution_count": 6,
   "id": "cafb77d9-fa9d-4f21-9b49-502c60d9cdd9",
   "metadata": {},
   "outputs": [
    {
     "name": "stdout",
     "output_type": "stream",
     "text": [
      "No module named 'Ankit'\n"
     ]
    },
    {
     "data": {
      "text/plain": [
       "2.5"
      ]
     },
     "execution_count": 6,
     "metadata": {},
     "output_type": "execute_result"
    }
   ],
   "source": [
    "try:\n",
    "    import Ankit\n",
    "except ImportError as e:\n",
    "    print(e)\n",
    "10/4"
   ]
  },
  {
   "cell_type": "markdown",
   "id": "9f4751c9-ab5a-43a5-bb7c-86c9c5a01535",
   "metadata": {},
   "source": [
    "#KEY ERROR"
   ]
  },
  {
   "cell_type": "code",
   "execution_count": 8,
   "id": "d6d0a007-9a6f-4aec-ab38-96b6a44d8d4b",
   "metadata": {},
   "outputs": [
    {
     "name": "stdout",
     "output_type": "stream",
     "text": [
      "'key2'\n"
     ]
    }
   ],
   "source": [
    "try:\n",
    "    d={\"key\":\"Ankit\",1:[1,2,3,4]}\n",
    "    print(d[\"key2\"])\n",
    "except KeyError as e:\n",
    "    print(e)"
   ]
  },
  {
   "cell_type": "markdown",
   "id": "237bca2f-d8ba-4f04-bf4c-cb2292c76533",
   "metadata": {},
   "source": [
    "# ATRRIBUTE ERROR"
   ]
  },
  {
   "cell_type": "code",
   "execution_count": 9,
   "id": "3e677adf-eee5-4d69-9009-ec9927b08fd1",
   "metadata": {},
   "outputs": [
    {
     "name": "stdout",
     "output_type": "stream",
     "text": [
      "'str' object has no attribute 'test'\n"
     ]
    }
   ],
   "source": [
    "try:\n",
    "    \"Ankit\".test()\n",
    "except AttributeError as e:\n",
    "    print(e)"
   ]
  },
  {
   "cell_type": "markdown",
   "id": "b6c457b6-1a94-4247-aaff-60f221de600a",
   "metadata": {},
   "source": [
    "#INDEX ERROR"
   ]
  },
  {
   "cell_type": "code",
   "execution_count": 11,
   "id": "27687d0c-3c06-4e68-b244-ca9f40db4cc9",
   "metadata": {},
   "outputs": [
    {
     "name": "stdout",
     "output_type": "stream",
     "text": [
      "list index out of range\n"
     ]
    }
   ],
   "source": [
    "try:\n",
    "    l=[1,2,3,4,5]\n",
    "    l[6]\n",
    "except IndexError as e:\n",
    "    print(e)"
   ]
  },
  {
   "cell_type": "markdown",
   "id": "a20648c0-0eb7-4757-867e-5dd2065dd639",
   "metadata": {},
   "source": [
    "#TYPE ERROR \n"
   ]
  },
  {
   "cell_type": "code",
   "execution_count": 14,
   "id": "b847b3e5-c2b0-4fbc-b94a-150965c2f6f4",
   "metadata": {},
   "outputs": [
    {
     "name": "stdout",
     "output_type": "stream",
     "text": [
      "unsupported operand type(s) for +: 'int' and 'str'\n"
     ]
    }
   ],
   "source": [
    "try:\n",
    "    123+\"Ankit\"\n",
    "except TypeError as e:\n",
    "    print(e)"
   ]
  },
  {
   "cell_type": "markdown",
   "id": "8d278ec0-60c8-4d25-b869-782e4c0780a8",
   "metadata": {},
   "source": [
    "# FILE NOT FOUND ERROR"
   ]
  },
  {
   "cell_type": "code",
   "execution_count": 18,
   "id": "e7fd7fd7-b4d2-495d-a360-f84d2209d66d",
   "metadata": {},
   "outputs": [
    {
     "name": "stdout",
     "output_type": "stream",
     "text": [
      "[Errno 2] No such file or directory: 'text.txt'\n"
     ]
    }
   ],
   "source": [
    "try:\n",
    "    with open(\"text.txt\",'r') as f:\n",
    "          f.read()\n",
    "except FileNotFoundError as e:\n",
    "    print(e)"
   ]
  },
  {
   "cell_type": "code",
   "execution_count": 22,
   "id": "577c5f2f-2648-43bd-852a-330f897ef974",
   "metadata": {},
   "outputs": [],
   "source": [
    "# Phela exception work krega phele wla dusra wla except work  nhi kraga"
   ]
  },
  {
   "cell_type": "code",
   "execution_count": 24,
   "id": "cd1b1d3c-3144-4f90-aa66-f9158b3350bf",
   "metadata": {},
   "outputs": [
    {
     "name": "stdout",
     "output_type": "stream",
     "text": [
      "[Errno 2] No such file or directory: 'text.txt'\n"
     ]
    }
   ],
   "source": [
    "try:\n",
    "    with open(\"text.txt\",'r') as f:\n",
    "          f.read()\n",
    "except Exception as e:\n",
    "    print(e)\n",
    "except FileNotFoundError as e:\n",
    "    print(\"test\",e)"
   ]
  },
  {
   "cell_type": "code",
   "execution_count": null,
   "id": "c49f1eae-eba7-4dfd-bd0c-534a11da654c",
   "metadata": {},
   "outputs": [],
   "source": [
    "# isko function ke andar bhi likh skte hai try except ko , classes ke andar bhi likh skte ho"
   ]
  },
  {
   "cell_type": "code",
   "execution_count": null,
   "id": "d69852da-87a3-4d54-9c69-0322141406aa",
   "metadata": {},
   "outputs": [],
   "source": [
    "def test(file)\n",
    "try:\n",
    "    with open(\"text.txt\",'r') as f:\n",
    "          f.read()\n",
    "except Exception as e:\n",
    "    print(e)\n",
    "except FileNotFoundError as e:\n",
    "    print(\"test\",e)"
   ]
  }
 ],
 "metadata": {
  "kernelspec": {
   "display_name": "Python 3 (ipykernel)",
   "language": "python",
   "name": "python3"
  },
  "language_info": {
   "codemirror_mode": {
    "name": "ipython",
    "version": 3
   },
   "file_extension": ".py",
   "mimetype": "text/x-python",
   "name": "python",
   "nbconvert_exporter": "python",
   "pygments_lexer": "ipython3",
   "version": "3.10.8"
  }
 },
 "nbformat": 4,
 "nbformat_minor": 5
}
